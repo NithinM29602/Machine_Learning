{
  "nbformat": 4,
  "nbformat_minor": 0,
  "metadata": {
    "colab": {
      "provenance": [],
      "gpuType": "T4"
    },
    "kernelspec": {
      "name": "python3",
      "display_name": "Python 3"
    },
    "language_info": {
      "name": "python"
    },
    "accelerator": "GPU"
  },
  "cells": [
    {
      "cell_type": "code",
      "execution_count": 19,
      "metadata": {
        "id": "o0U8mwmJhetr"
      },
      "outputs": [],
      "source": [
        "import torch\n",
        "import torchvision\n",
        "import torch.nn as nn\n",
        "import numpy\n",
        "import matplotlib.pyplot as plt"
      ]
    },
    {
      "cell_type": "code",
      "source": [
        "device = ('cuda' if torch.cuda.is_available() else 'cpu')\n",
        "print(device)"
      ],
      "metadata": {
        "colab": {
          "base_uri": "https://localhost:8080/"
        },
        "id": "pOCgC2M7qiCm",
        "outputId": "caeb3d55-1aa0-47bd-866a-e0fbbbd99d02"
      },
      "execution_count": 20,
      "outputs": [
        {
          "output_type": "stream",
          "name": "stdout",
          "text": [
            "cuda\n"
          ]
        }
      ]
    },
    {
      "cell_type": "code",
      "source": [
        "transform = torchvision.transforms.Compose([\n",
        "    torchvision.transforms.Resize((256,256)),\n",
        "    torchvision.transforms.CenterCrop((227,227)),\n",
        "    torchvision.transforms.ToTensor()\n",
        "])"
      ],
      "metadata": {
        "id": "Jw-DPTb6owsy"
      },
      "execution_count": 21,
      "outputs": []
    },
    {
      "cell_type": "code",
      "source": [
        "batch_size = 32\n",
        "learning_rate = 1e-2\n",
        "learning_momentum = 0.9\n",
        "num_epoch = 15"
      ],
      "metadata": {
        "id": "_sKo6Zc5qRjj"
      },
      "execution_count": 22,
      "outputs": []
    },
    {
      "cell_type": "code",
      "source": [
        "train_data = torchvision.datasets.CIFAR100(root='/content/sample_data', train=True, download=True, transform=transform)\n",
        "train_loader = torch.utils.data.DataLoader(train_data, shuffle=True, batch_size=batch_size, num_workers=4)\n",
        "\n",
        "test_data = torchvision.datasets.CIFAR100(root='/content/sample_data', train=False, download=True, transform=transform)\n",
        "test_loader = torch.utils.data.DataLoader(test_data, shuffle = False, batch_size = batch_size, num_workers = 4)"
      ],
      "metadata": {
        "colab": {
          "base_uri": "https://localhost:8080/"
        },
        "id": "1xhsEXXVpIge",
        "outputId": "7c36fb60-bc6a-4986-a02b-d8195add6eab"
      },
      "execution_count": 23,
      "outputs": [
        {
          "output_type": "stream",
          "name": "stdout",
          "text": [
            "Files already downloaded and verified\n",
            "Files already downloaded and verified\n"
          ]
        }
      ]
    },
    {
      "cell_type": "code",
      "source": [
        "class AlexNet(nn.Module):\n",
        "  def __init__(self):\n",
        "    super().__init__()\n",
        "\n",
        "    self.conv_net = nn.Sequential(\n",
        "        nn.Conv2d(in_channels=3, out_channels=96, kernel_size=11, stride=4),\n",
        "        nn.LocalResponseNorm(size=5, alpha=0.0001, beta=0.75, k=2),\n",
        "        nn.MaxPool2d(kernel_size=3, stride =2),\n",
        "        nn.ReLU(),\n",
        "\n",
        "        nn.Conv2d(96, 256, 5, padding=2),\n",
        "        nn.LocalResponseNorm(size=5, alpha=0.0001, beta=0.75, k=2),\n",
        "        nn.MaxPool2d(3,stride=2),\n",
        "        nn.ReLU(),\n",
        "\n",
        "        nn.Conv2d(256, 384, 3, padding=1),\n",
        "        nn.ReLU(),\n",
        "        nn.Conv2d(384, 384, 3, padding=1),\n",
        "        nn.ReLU(),\n",
        "\n",
        "        nn.Conv2d(384,256, 3, padding=1),\n",
        "        nn.MaxPool2d(3, stride=2),\n",
        "        nn.ReLU(),\n",
        "    )\n",
        "\n",
        "    self.fc_net = nn.Sequential(\n",
        "        nn.Dropout(p=0.5),\n",
        "        nn.Linear(256*6*6, 4096),\n",
        "        nn.ReLU(),\n",
        "        nn.Dropout(p=0.5),\n",
        "        nn.Linear(4096, 4096),\n",
        "        nn.ReLU(),\n",
        "        nn.Linear(4096, 100)\n",
        "    )\n",
        "\n",
        "  def forward(self,x):\n",
        "    x = self.conv_net(x)\n",
        "    x = x.view(-1,256*6*6)\n",
        "    x = self.fc_net(x)\n",
        "    return x"
      ],
      "metadata": {
        "id": "q0NK5aBuin68"
      },
      "execution_count": 24,
      "outputs": []
    },
    {
      "cell_type": "code",
      "source": [
        "model = AlexNet()\n",
        "model.to(device)\n",
        "loss_func = nn.CrossEntropyLoss()\n",
        "optimizer = torch.optim.SGD(model.parameters(), lr= learning_rate, momentum=learning_momentum)"
      ],
      "metadata": {
        "id": "CJwaRU66wV41"
      },
      "execution_count": 25,
      "outputs": []
    },
    {
      "cell_type": "code",
      "source": [
        "print(model)"
      ],
      "metadata": {
        "colab": {
          "base_uri": "https://localhost:8080/"
        },
        "id": "K-GlB3BNwuck",
        "outputId": "8f17f78e-d063-42d2-d59e-6d227034a29d"
      },
      "execution_count": 26,
      "outputs": [
        {
          "output_type": "stream",
          "name": "stdout",
          "text": [
            "AlexNet(\n",
            "  (conv_net): Sequential(\n",
            "    (0): Conv2d(3, 96, kernel_size=(11, 11), stride=(4, 4))\n",
            "    (1): LocalResponseNorm(5, alpha=0.0001, beta=0.75, k=2)\n",
            "    (2): MaxPool2d(kernel_size=3, stride=2, padding=0, dilation=1, ceil_mode=False)\n",
            "    (3): ReLU()\n",
            "    (4): Conv2d(96, 256, kernel_size=(5, 5), stride=(1, 1), padding=(2, 2))\n",
            "    (5): LocalResponseNorm(5, alpha=0.0001, beta=0.75, k=2)\n",
            "    (6): MaxPool2d(kernel_size=3, stride=2, padding=0, dilation=1, ceil_mode=False)\n",
            "    (7): ReLU()\n",
            "    (8): Conv2d(256, 384, kernel_size=(3, 3), stride=(1, 1), padding=(1, 1))\n",
            "    (9): ReLU()\n",
            "    (10): Conv2d(384, 384, kernel_size=(3, 3), stride=(1, 1), padding=(1, 1))\n",
            "    (11): ReLU()\n",
            "    (12): Conv2d(384, 256, kernel_size=(3, 3), stride=(1, 1), padding=(1, 1))\n",
            "    (13): MaxPool2d(kernel_size=3, stride=2, padding=0, dilation=1, ceil_mode=False)\n",
            "    (14): ReLU()\n",
            "  )\n",
            "  (fc_net): Sequential(\n",
            "    (0): Dropout(p=0.5, inplace=False)\n",
            "    (1): Linear(in_features=9216, out_features=4096, bias=True)\n",
            "    (2): ReLU()\n",
            "    (3): Dropout(p=0.5, inplace=False)\n",
            "    (4): Linear(in_features=4096, out_features=4096, bias=True)\n",
            "    (5): ReLU()\n",
            "    (6): Linear(in_features=4096, out_features=100, bias=True)\n",
            "  )\n",
            ")\n"
          ]
        }
      ]
    },
    {
      "cell_type": "code",
      "source": [
        "torch.autograd.set_detect_anomaly(True)\n",
        "for epoch in range(num_epoch):\n",
        "  for i, (images, labels) in enumerate(train_loader):\n",
        "    images = images.to(device)\n",
        "    labels = labels.to(device)\n",
        "\n",
        "    prediction = model(images)\n",
        "    loss = loss_func(prediction, labels)\n",
        "    optimizer.zero_grad()\n",
        "    loss.backward()\n",
        "    optimizer.step()\n",
        "\n",
        "    if (i+1)%1000 == 0:\n",
        "      print(f\"[{epoch, i+1}], loss : {loss}\")\n"
      ],
      "metadata": {
        "id": "QpN7_A1WsR0y"
      },
      "execution_count": null,
      "outputs": []
    },
    {
      "cell_type": "code",
      "source": [
        "total = correct = 0\n",
        "with torch.no_grad():\n",
        "  for data in test_loader:\n",
        "    images, labels = data\n",
        "    images = images.to(device)\n",
        "    labels = labels.to(device)\n",
        "\n",
        "    output = model(images)\n",
        "    _, predicted = torch.max(output, 1)\n",
        "    total += labels.size(0)\n",
        "    correct += (predicted==labels).sum().item()\n",
        "\n",
        "  print(f\"The Accuracy is {100*(correct/total)}%\")"
      ],
      "metadata": {
        "id": "uSzWEJ-BtchC"
      },
      "execution_count": null,
      "outputs": []
    }
  ]
}