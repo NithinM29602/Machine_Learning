{
  "nbformat": 4,
  "nbformat_minor": 0,
  "metadata": {
    "colab": {
      "provenance": []
    },
    "kernelspec": {
      "name": "python3",
      "display_name": "Python 3"
    },
    "language_info": {
      "name": "python"
    }
  },
  "cells": [
    {
      "cell_type": "code",
      "execution_count": 2,
      "metadata": {
        "id": "oH0Lv6qP4qQu"
      },
      "outputs": [],
      "source": [
        "import torch\n",
        "import torch.nn as nn"
      ]
    },
    {
      "cell_type": "code",
      "source": [
        "def crop_image(tensor, target):\n",
        "  tensor_size = tensor.size()[2]\n",
        "  target_size = target.size()[2]\n",
        "  delta = tensor_size - target_size\n",
        "  delta = delta // 2\n",
        "  return tensor[:, :, delta:tensor_size-delta, delta:tensor_size-delta]\n",
        "\n",
        "def double_conv(in_ch, out_ch):\n",
        "  conv = nn.Sequential(\n",
        "      nn.Conv2d(in_ch, out_ch, kernel_size=3),\n",
        "      nn.ReLU(inplace=True),\n",
        "      nn.Conv2d(out_ch, out_ch, kernel_size=3),\n",
        "      nn.ReLU(inplace=True)\n",
        "  )\n",
        "  return conv\n",
        "\n",
        "class Unet(nn.Module):\n",
        "  def __init__(self):\n",
        "    super(Unet, self).__init__()\n",
        "\n",
        "    self.max_pool_2x2 = nn.MaxPool2d(kernel_size = 2, stride = 2)\n",
        "\n",
        "    self.double_conv_1 = double_conv(1, 64)\n",
        "    self.double_conv_2 = double_conv(64, 128)\n",
        "    self.double_conv_3 = double_conv(128, 256)\n",
        "    self.double_conv_4 = double_conv(256, 512)\n",
        "    self.double_conv_5 = double_conv(512, 1024)\n",
        "\n",
        "    self.up_trans_1 = nn.ConvTranspose2d(1024, 512, kernel_size = 2, stride = 2)\n",
        "    self.up_conv_1 = double_conv(1024, 512)\n",
        "\n",
        "    self.up_trans_2 = nn.ConvTranspose2d(512, 256, kernel_size = 2, stride = 2)\n",
        "    self.up_conv_2 = double_conv(512, 256)\n",
        "\n",
        "    self.up_trans_3 = nn.ConvTranspose2d(256, 128, kernel_size = 2, stride = 2)\n",
        "    self.up_conv_3 = double_conv(256, 128)\n",
        "\n",
        "    self.up_trans_4 = nn.ConvTranspose2d(128, 64, kernel_size = 2, stride = 2)\n",
        "    self.up_conv_4 = double_conv(128, 64)\n",
        "\n",
        "    self.final_conv = nn.Conv2d(64, 2, kernel_size = 1)\n",
        "\n",
        "  def forward(self, image):\n",
        "    x1 = self.double_conv_1(image) #\n",
        "    x2 = self.max_pool_2x2(x1)\n",
        "    x3 = self.double_conv_2(x2) #\n",
        "    x4 = self.max_pool_2x2(x3)\n",
        "    x5 = self.double_conv_3(x4) #\n",
        "    x6 = self.max_pool_2x2(x5)\n",
        "    x7 = self.double_conv_4(x6) #\n",
        "    x8 = self.max_pool_2x2(x7)\n",
        "    x9 = self.double_conv_5(x8)\n",
        "\n",
        "    x = self.up_trans_1(x9)\n",
        "    y = crop_image(x7, x)\n",
        "    x = self.up_conv_1(torch.cat([x, y], 1))\n",
        "\n",
        "    x = self.up_trans_2(x)\n",
        "    y = crop_image(x5, x)\n",
        "    x = self.up_conv_2(torch.cat([x, y], 1))\n",
        "\n",
        "    x = self.up_trans_3(x)\n",
        "    y = crop_image(x3, x)\n",
        "    x = self.up_conv_3(torch.cat([x, y], 1))\n",
        "\n",
        "    x = self.up_trans_4(x)\n",
        "    y = crop_image(x1, x)\n",
        "    x = self.up_conv_4(torch.cat([x, y], 1))\n",
        "\n",
        "    x = self.final_conv(x)\n",
        "    # print(f\"final: {x.size()}\")\n",
        "    return x\n",
        "\n"
      ],
      "metadata": {
        "id": "QR8-za1_5CfQ"
      },
      "execution_count": null,
      "outputs": []
    },
    {
      "cell_type": "code",
      "source": [
        "import os\n",
        "from PIL import Image\n",
        "import numpy as np\n",
        "\n",
        "class Watermark_datasets(nn.Dataset):\n",
        "  def __init__(self, image_dir, mask_dir, transform=None):\n",
        "    self.image_dir = image_dir\n",
        "    self.mask_dir = mask_dir\n",
        "    self.transform = transform\n",
        "    self.images = os.listdir(image_dir)\n",
        "\n",
        "  def __len__(self):\n",
        "    return len(self.images)\n",
        "\n",
        "  # Make some changes here\n",
        "  def __getitem__(self, index):\n",
        "    img_path = os.path.join(self.image_dir, self.images[index])\n",
        "    mask_path = os.path.join(self.mask_dir, self.images[index].replace(\".jpeg\", \"_make.gif\"))\n",
        "    image = np.array(Image.open(img_path).convert(\"RGB\"))\n",
        "    mask = np.array(Image.open(mask_path).convert(\"L\"))\n",
        "    mask[mask == 255] = 1\n",
        "\n",
        "    if self.transform is not None:\n",
        "      augmentations = self.transform(image = image, mask = mask)\n",
        "      image = augmentations['image']\n",
        "      mask = augmentations['mask']\n",
        "\n",
        "    return image, mask"
      ],
      "metadata": {
        "id": "y8PL8TA4YEQd"
      },
      "execution_count": null,
      "outputs": []
    }
  ]
}