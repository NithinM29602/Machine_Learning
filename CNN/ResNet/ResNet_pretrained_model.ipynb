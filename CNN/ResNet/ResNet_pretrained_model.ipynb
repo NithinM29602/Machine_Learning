{
  "nbformat": 4,
  "nbformat_minor": 0,
  "metadata": {
    "colab": {
      "provenance": [],
      "gpuType": "T4"
    },
    "kernelspec": {
      "name": "python3",
      "display_name": "Python 3"
    },
    "language_info": {
      "name": "python"
    },
    "accelerator": "GPU"
  },
  "cells": [
    {
      "cell_type": "code",
      "execution_count": 1,
      "metadata": {
        "id": "hTC2xhJ_fPO1"
      },
      "outputs": [],
      "source": [
        "import torch\n",
        "import torchvision.models as models\n",
        "import torchvision\n",
        "import os\n",
        "import torch.nn as nn\n",
        "from PIL import Image\n",
        "import matplotlib.pyplot as plt\n"
      ]
    },
    {
      "cell_type": "code",
      "source": [
        "transform = torchvision.transforms.Compose([\n",
        "    torchvision.transforms.Resize((255,255)),\n",
        "    torchvision.transforms.CenterCrop((224,224)),\n",
        "    torchvision.transforms.ToTensor(),\n",
        "    torchvision.transforms.Normalize(mean = 0.5, std = 0.5)\n",
        "])"
      ],
      "metadata": {
        "id": "95Ao1uvhfUl7"
      },
      "execution_count": 2,
      "outputs": []
    },
    {
      "cell_type": "code",
      "source": [
        "device  = ('cuda:0' if torch.cuda.is_available() else 'cpu')\n",
        "print(device)"
      ],
      "metadata": {
        "colab": {
          "base_uri": "https://localhost:8080/"
        },
        "id": "dBTNfYHGfV-f",
        "outputId": "d90acbc3-5274-48fb-c224-4f7ae20a1329"
      },
      "execution_count": 3,
      "outputs": [
        {
          "output_type": "stream",
          "name": "stdout",
          "text": [
            "cuda:0\n"
          ]
        }
      ]
    },
    {
      "cell_type": "code",
      "source": [
        "model = models.resnet50(pretrained=True)\n",
        "\n",
        "model.eval()\n",
        "\n",
        "model.to(device)"
      ],
      "metadata": {
        "id": "Yw_8sydsfcPW"
      },
      "execution_count": null,
      "outputs": []
    },
    {
      "cell_type": "code",
      "source": [
        "with open(\"/content/sample_data/imagenet_class_index.txt\",\"r\") as f:\n",
        "  lines = f.readlines()\n",
        "\n",
        "class_idx_dict = {}\n",
        "for line in lines:\n",
        "  line = line.strip()\n",
        "  key , value = line.split(':')\n",
        "  key = key.strip()\n",
        "  value = value.strip()\n",
        "  class_idx_dict[key] = value\n",
        "\n",
        "\n",
        "class_idx = [class_idx_dict[f\"{i}\"] for i in class_idx_dict.keys()]"
      ],
      "metadata": {
        "id": "95_UTMmc6DrN"
      },
      "execution_count": 6,
      "outputs": []
    },
    {
      "cell_type": "code",
      "source": [
        "plt.figure(figsize=(20,5))\n",
        "\n",
        "image_folder_path = '/content/Images'\n",
        "for image_path in os.listdir(image_folder_path):\n",
        "  if image_path.endswith('.jpeg') or image_path.endswith('.png'):\n",
        "    image_p = os.path.join(image_folder_path, image_path)\n",
        "    image = Image.open(image_p)\n",
        "    transformed_image = transform(image)\n",
        "    final_image = transformed_image.unsqueeze(0)\n",
        "    final_image = final_image.to(device)\n",
        "    output = model(final_image)\n",
        "    _, predicted = torch.max(output, dim=1)\n",
        "    # image = final_image.cpu().numpy().squeeze(0).transpose(1,2,0)\n",
        "    plt.imshow(image)\n",
        "    plt.title(f\"Predicted : {class_idx[predicted]}\")\n",
        "    plt.show()"
      ],
      "metadata": {
        "id": "NEu_7p8gff1H"
      },
      "execution_count": null,
      "outputs": []
    }
  ]
}