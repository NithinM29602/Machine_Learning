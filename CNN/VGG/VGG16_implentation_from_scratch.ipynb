{
  "nbformat": 4,
  "nbformat_minor": 0,
  "metadata": {
    "colab": {
      "provenance": [],
      "gpuType": "T4"
    },
    "kernelspec": {
      "name": "python3",
      "display_name": "Python 3"
    },
    "language_info": {
      "name": "python"
    },
    "accelerator": "GPU"
  },
  "cells": [
    {
      "cell_type": "code",
      "execution_count": 1,
      "metadata": {
        "id": "A_ABD38riCej"
      },
      "outputs": [],
      "source": [
        "import torch\n",
        "import torch.nn as nn\n",
        "import torchvision\n",
        "import numpy\n",
        "import matplotlib.pyplot as plt"
      ]
    },
    {
      "cell_type": "code",
      "source": [
        "transform = torchvision.transforms.Compose([\n",
        "    torchvision.transforms.Resize((224,224)),\n",
        "    torchvision.transforms.ToTensor(),\n",
        "])"
      ],
      "metadata": {
        "id": "UrY-dqAjiXgn"
      },
      "execution_count": 2,
      "outputs": []
    },
    {
      "cell_type": "code",
      "source": [
        "device = ('cuda' if torch.cuda.is_available() else 'cpu')\n",
        "print(device)"
      ],
      "metadata": {
        "colab": {
          "base_uri": "https://localhost:8080/"
        },
        "id": "M52vWWsaqqvy",
        "outputId": "8cd6123b-69cc-4e6d-c9bc-b00c59621ae4"
      },
      "execution_count": 3,
      "outputs": [
        {
          "output_type": "stream",
          "name": "stdout",
          "text": [
            "cuda\n"
          ]
        }
      ]
    },
    {
      "cell_type": "code",
      "source": [
        "batch_size = 32\n",
        "num_epoch = 10"
      ],
      "metadata": {
        "id": "UMQQQYKqj9nm"
      },
      "execution_count": 4,
      "outputs": []
    },
    {
      "cell_type": "code",
      "source": [
        "train_data = torchvision.datasets.MNIST(root='/content/VGG_Net', train=True, download=True, transform=transform)\n",
        "train_loader = torch.utils.data.DataLoader(train_data, shuffle=True, batch_size=batch_size)\n",
        "\n",
        "test_data = torchvision.datasets.MNIST(root='/content/VGG_Net', train=False, download=True, transform=transform)\n",
        "test_loader = torch.utils.data.DataLoader(test_data, shuffle=False, batch_size=batch_size)"
      ],
      "metadata": {
        "id": "hXmHoFsKjXKE"
      },
      "execution_count": 5,
      "outputs": []
    },
    {
      "cell_type": "code",
      "source": [
        "from torch.nn.modules.pooling import AdaptiveMaxPool2d\n",
        "class VGG(nn.Module):\n",
        "  def __init__(self):\n",
        "    super().__init__()\n",
        "    self.conv = nn.Sequential(\n",
        "        nn.Conv2d(1,64,3,stride=1, padding=1),\n",
        "        nn.ReLU(True),\n",
        "        nn.Conv2d(64,64,3,stride=1, padding=1),\n",
        "        nn.ReLU(True),\n",
        "        nn.MaxPool2d(2,2),\n",
        "\n",
        "        nn.Conv2d(64,128,3,stride=1,padding=1),\n",
        "        nn.ReLU(),\n",
        "        nn.Conv2d(128,128,3, stride=1, padding=1),\n",
        "        nn.ReLU(),\n",
        "        nn.MaxPool2d(2, 2),\n",
        "\n",
        "        nn.Conv2d(128,256,3,stride=1, padding=1),\n",
        "        nn.ReLU(True),\n",
        "        nn.Conv2d(256,256,3,stride=1, padding=1),\n",
        "        nn.ReLU(True),\n",
        "        nn.Conv2d(256,256,3,stride=1, padding=1),\n",
        "        nn.ReLU(True),\n",
        "        nn.MaxPool2d(2,2),\n",
        "\n",
        "        nn.Conv2d(256,512,3,stride=1, padding=1),\n",
        "        nn.ReLU(True),\n",
        "        nn.Conv2d(512,512,3,stride=1, padding=1),\n",
        "        nn.ReLU(True),\n",
        "        nn.Conv2d(512,512,3,stride=1, padding=1),\n",
        "        nn.ReLU(True),\n",
        "        nn.MaxPool2d(2,2),\n",
        "\n",
        "        nn.Conv2d(512,512,3,stride=1, padding=1),\n",
        "        nn.ReLU(True),\n",
        "        nn.Conv2d(512,512,3,stride=1, padding=1),\n",
        "        nn.ReLU(True),\n",
        "        nn.Conv2d(512,512,3,stride=1, padding=1),\n",
        "        nn.ReLU(True),\n",
        "        nn.MaxPool2d(2,2),\n",
        "    )\n",
        "\n",
        "    self.classifiers = nn.Sequential(\n",
        "        nn.Linear(512*7*7, 4096),\n",
        "        nn.ReLU(True),\n",
        "        nn.Dropout(0.5),\n",
        "        nn.Linear(4096,4096),\n",
        "        nn.ReLU(True),\n",
        "        nn.Dropout(0.5),\n",
        "        nn.Linear(4096, 10)\n",
        "    )\n",
        "\n",
        "  def forward(self, x):\n",
        "    x = self.conv(x)\n",
        "    x = x.view(-1, 512*7*7)\n",
        "    x = self.classifiers(x)\n",
        "    x = nn.Softmax(1)(x)\n",
        "    return x\n",
        ""
      ],
      "metadata": {
        "id": "BepyK_GdkNSC"
      },
      "execution_count": 6,
      "outputs": []
    },
    {
      "cell_type": "code",
      "source": [
        "model = VGG()\n",
        "model.to(device)\n",
        "loss_func = nn.CrossEntropyLoss()\n",
        "optimizer = torch.optim.SGD(model.parameters(), lr=0.01, momentum=0.7)"
      ],
      "metadata": {
        "id": "TS8XTJ4Nqj_z"
      },
      "execution_count": 7,
      "outputs": []
    },
    {
      "cell_type": "code",
      "source": [
        "for epoch in range(num_epoch):\n",
        "  for i, (images, labels) in enumerate(train_loader):\n",
        "    images = images.to(device)\n",
        "    labels = labels.to(device)\n",
        "    predicted = model(images)\n",
        "    loss = loss_func(predicted, labels)\n",
        "    optimizer.zero_grad()\n",
        "    loss.backward()\n",
        "    optimizer.step()\n",
        "\n",
        "    if (i+1)%1000 == 0:\n",
        "      print(f\"[{epoch}, {i+1}], loss : {loss}\")\n",
        ""
      ],
      "metadata": {
        "id": "lDwlBq6wrJnK"
      },
      "execution_count": null,
      "outputs": []
    },
    {
      "cell_type": "code",
      "source": [
        "correct = total = 0\n",
        "with torch.no_grad():\n",
        "  for data in test_loader:\n",
        "    images, labels = data\n",
        "    images = images.to(device)\n",
        "    labels = labels.to(device)\n",
        "    output = model(images)\n",
        "    _, predicted = torch.max(output, dim=1)\n",
        "    correct += (predicted == labels).sum().item()\n",
        "    total += labels.size(0)\n",
        "\n",
        "  print(f\"Accuracy of the Model : {100*(correct/total)}%\")"
      ],
      "metadata": {
        "id": "1QKP664dshBy"
      },
      "execution_count": null,
      "outputs": []
    }
  ]
}