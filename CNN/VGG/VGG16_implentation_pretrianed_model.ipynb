{
  "nbformat": 4,
  "nbformat_minor": 0,
  "metadata": {
    "colab": {
      "provenance": [],
      "gpuType": "T4"
    },
    "kernelspec": {
      "name": "python3",
      "display_name": "Python 3"
    },
    "language_info": {
      "name": "python"
    },
    "accelerator": "GPU"
  },
  "cells": [
    {
      "cell_type": "code",
      "execution_count": 53,
      "metadata": {
        "id": "A_ABD38riCej"
      },
      "outputs": [],
      "source": [
        "import torch\n",
        "import torch.nn as nn\n",
        "import torchvision\n",
        "import numpy\n",
        "import matplotlib.pyplot as plt\n",
        "import json\n",
        "import sys\n",
        "import os\n",
        "from PIL import Image"
      ]
    },
    {
      "cell_type": "code",
      "source": [
        "transform = torchvision.transforms.Compose([\n",
        "    torchvision.transforms.Resize((224,224)),\n",
        "    torchvision.transforms.ToTensor(),\n",
        "    torchvision.transforms.Normalize([0.5,0.5,0.5],[0.5,0.5,0.5])\n",
        "])"
      ],
      "metadata": {
        "id": "UrY-dqAjiXgn"
      },
      "execution_count": 81,
      "outputs": []
    },
    {
      "cell_type": "code",
      "source": [
        "device = ('cuda' if torch.cuda.is_available() else 'cpu')\n",
        "print(device)"
      ],
      "metadata": {
        "id": "M52vWWsaqqvy"
      },
      "execution_count": null,
      "outputs": []
    },
    {
      "cell_type": "code",
      "source": [
        "model = torchvision.models.vgg16(pretrained=True)"
      ],
      "metadata": {
        "id": "rnx9rhQqWx3S"
      },
      "execution_count": null,
      "outputs": []
    },
    {
      "cell_type": "code",
      "source": [
        "for params in model.parameters():\n",
        "  params.requires_grad = False"
      ],
      "metadata": {
        "id": "B0mdcZIBd_Sz"
      },
      "execution_count": 47,
      "outputs": []
    },
    {
      "cell_type": "code",
      "source": [
        "print(model)"
      ],
      "metadata": {
        "id": "iaBxWNOXeN1S"
      },
      "execution_count": null,
      "outputs": []
    },
    {
      "cell_type": "code",
      "source": [
        "model.classifier.add_module('7', nn.Softmax(dim=1))"
      ],
      "metadata": {
        "id": "6gIgarPvenpG"
      },
      "execution_count": 49,
      "outputs": []
    },
    {
      "cell_type": "code",
      "source": [
        "with open(\"/content/sample_data/imagenet_class_index.txt\",\"r\") as f:\n",
        "  lines = f.readlines()\n",
        "\n",
        "class_idx_dict = {}\n",
        "for line in lines:\n",
        "  line = line.strip()\n",
        "  key , value = line.split(':')\n",
        "  key = key.strip()\n",
        "  value = value.strip()\n",
        "  class_idx_dict[key] = value\n",
        "\n",
        "\n",
        "class_idx = [class_idx_dict[f\"{i}\"] for i in class_idx_dict.keys()]"
      ],
      "metadata": {
        "id": "Aur6AFDzXgRD"
      },
      "execution_count": 82,
      "outputs": []
    },
    {
      "cell_type": "code",
      "source": [
        "model.to(device)"
      ],
      "metadata": {
        "id": "TS8XTJ4Nqj_z"
      },
      "execution_count": null,
      "outputs": []
    },
    {
      "cell_type": "code",
      "source": [
        "folder_path = '/content/Images'\n",
        "torch.manual_seed(42)\n",
        "plt.figure(figsize=(20,5))\n",
        "for file in os.listdir(folder_path):\n",
        "  if file.endswith('.jpeg') or file.endswith('.png'):\n",
        "    image_path = os.path.join(folder_path,file)\n",
        "    image_orig  = Image.open(image_path)\n",
        "    image = transform(image_orig)\n",
        "    image = image.unsqueeze(0)\n",
        "    image = image.to(device)\n",
        "    predicted = model(image)\n",
        "    _, output = torch.max(predicted,dim=1)\n",
        "    image = image.cpu().numpy().squeeze(0).transpose(1,2,0)\n",
        "    plt.imshow(image_orig)\n",
        "    plt.title(f\"Predicted : {class_idx[output]}\")\n",
        "    plt.show()"
      ],
      "metadata": {
        "id": "TABYeZuFfQhV"
      },
      "execution_count": null,
      "outputs": []
    }
  ]
}