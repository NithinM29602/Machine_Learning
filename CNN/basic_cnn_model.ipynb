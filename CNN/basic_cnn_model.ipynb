{
  "nbformat": 4,
  "nbformat_minor": 0,
  "metadata": {
    "colab": {
      "provenance": [],
      "gpuType": "T4"
    },
    "kernelspec": {
      "name": "python3",
      "display_name": "Python 3"
    },
    "language_info": {
      "name": "python"
    },
    "accelerator": "GPU"
  },
  "cells": [
    {
      "cell_type": "code",
      "execution_count": 1,
      "metadata": {
        "id": "lHWCBABdG4mk"
      },
      "outputs": [],
      "source": [
        "import torch\n",
        "import torch.nn as nn\n",
        "import torch.nn.functional as F\n",
        "import torch.optim as optim\n",
        "import torchvision\n",
        "import matplotlib.pyplot as plt\n"
      ]
    },
    {
      "cell_type": "code",
      "source": [
        "# Assigning the GPU for computation\n",
        "\n",
        "device = torch.device('cuda:0' if torch.cuda.is_available() else 'cpu')\n",
        "print(device)"
      ],
      "metadata": {
        "colab": {
          "base_uri": "https://localhost:8080/"
        },
        "id": "1X3__-C3y2vz",
        "outputId": "ad7e7f0f-26ed-48ac-9ee8-9ae7083a939e"
      },
      "execution_count": 2,
      "outputs": [
        {
          "output_type": "stream",
          "name": "stdout",
          "text": [
            "cuda:0\n"
          ]
        }
      ]
    },
    {
      "cell_type": "code",
      "source": [
        "#Performing some Transformation to the images\n",
        "\n",
        "transform = torchvision.transforms.Compose([torchvision.transforms.ToTensor()])"
      ],
      "metadata": {
        "id": "n4KIRJdCVRbq"
      },
      "execution_count": 3,
      "outputs": []
    },
    {
      "cell_type": "code",
      "source": [
        "#initializing the batch_size and loading the data\n",
        "\n",
        "batch_size = 32\n",
        "trainset = torchvision.datasets.CIFAR10(root='/content/CNN', train=True, transform=transform, download = True)\n",
        "trainloader = torch.utils.data.DataLoader(trainset, batch_size=batch_size, shuffle=True)\n",
        "\n",
        "testset = torchvision.datasets.CIFAR10(root='/content/CNN', train = False, transform=transform, download=True)\n",
        "testloader = torch.utils.data.DataLoader(testset, batch_size=batch_size, shuffle=True)\n"
      ],
      "metadata": {
        "colab": {
          "base_uri": "https://localhost:8080/"
        },
        "id": "ydmdMeZlUnLF",
        "outputId": "751f9c15-b698-4f26-c3de-7724dae77d45"
      },
      "execution_count": 4,
      "outputs": [
        {
          "output_type": "stream",
          "name": "stdout",
          "text": [
            "Downloading https://www.cs.toronto.edu/~kriz/cifar-10-python.tar.gz to /content/CNN/cifar-10-python.tar.gz\n"
          ]
        },
        {
          "output_type": "stream",
          "name": "stderr",
          "text": [
            "100%|██████████| 170498071/170498071 [00:02<00:00, 83909038.86it/s] \n"
          ]
        },
        {
          "output_type": "stream",
          "name": "stdout",
          "text": [
            "Extracting /content/CNN/cifar-10-python.tar.gz to /content/CNN\n",
            "Files already downloaded and verified\n"
          ]
        }
      ]
    },
    {
      "cell_type": "code",
      "source": [
        "# Hard coding the labels\n",
        "\n",
        "classes = ['plane', 'car', 'bird','cat','deer','dog','frog', 'horse', 'ship','truck']"
      ],
      "metadata": {
        "id": "if9xo-wiXpqL"
      },
      "execution_count": 5,
      "outputs": []
    },
    {
      "cell_type": "code",
      "source": [
        "# Constructing the CNN Architecture\n",
        "\n",
        "class CIFAR10(nn.Module):\n",
        "\n",
        "  def __init__(self):\n",
        "    super().__init__()\n",
        "    self.conv1 = nn.Conv2d(3,12,5)\n",
        "    self.act1 = nn.ReLU()\n",
        "    self.pool1 = nn.MaxPool2d(2)\n",
        "\n",
        "    self.conv2 = nn.Conv2d(12,32,5)\n",
        "    self.act2 = nn.ReLU()\n",
        "    self.pool2 = nn.MaxPool2d(2)\n",
        "\n",
        "    self.fc1 = nn.Linear(32*5*5, 120)\n",
        "    self.fc2 = nn.Linear(120, 84)\n",
        "    self.fc3 = nn.Linear(84, 10)\n",
        "\n",
        "  def forward(self, x):\n",
        "    x = self.pool1(self.act1(self.conv1(x)))\n",
        "    x = self.pool2(self.act2(self.conv2(x)))\n",
        "    x = torch.flatten(x,1)\n",
        "    x = F.relu(self.fc1(x))\n",
        "    x = F.relu(self.fc2(x))\n",
        "    x = self.fc3(x)\n",
        "    return x\n"
      ],
      "metadata": {
        "id": "hofMElJxZ84D"
      },
      "execution_count": 6,
      "outputs": []
    },
    {
      "cell_type": "code",
      "source": [
        "#Instantiating the Model, Defining the Loss and optimizer\n",
        "\n",
        "model = CIFAR10()\n",
        "model.to(device)  # Transferring the model to GPU\n",
        "loss_func = nn.CrossEntropyLoss()\n",
        "optimizer = optim.SGD(model.parameters(), lr=0.001, momentum=0.9)"
      ],
      "metadata": {
        "id": "-_6Fi1CieyL-"
      },
      "execution_count": 7,
      "outputs": []
    },
    {
      "cell_type": "code",
      "source": [
        "# Training the Model\n",
        "\n",
        "running_loss = 0\n",
        "n_epoch = 10\n",
        "total_num_steps = len(trainloader)\n",
        "for epoch in range(n_epoch):\n",
        "  for i, (inputs, labels) in enumerate(trainloader):\n",
        "    # Inputs are transferred to GPU\n",
        "    inputs = inputs.to(device)\n",
        "    labels = labels.to(device)\n",
        "\n",
        "    y_pred = model(inputs)\n",
        "    loss = loss_func(y_pred, labels)\n",
        "    optimizer.zero_grad()\n",
        "    loss.backward()\n",
        "    optimizer.step()\n",
        "\n",
        "    if i % 1000 == 999:    # print every 1000 mini-batches\n",
        "        print(f'[{epoch + 1}, {i + 1:5d}] loss: {loss}')\n",
        "        loss = 0.0\n",
        "\n",
        "print(\"Hooray, Finished Training\")"
      ],
      "metadata": {
        "colab": {
          "base_uri": "https://localhost:8080/"
        },
        "id": "tabNwPGOhyAy",
        "outputId": "fcf94eb4-3f6e-4a96-fb9a-5d4ce6e0354b"
      },
      "execution_count": 8,
      "outputs": [
        {
          "output_type": "stream",
          "name": "stdout",
          "text": [
            "[1,  1000] loss: 2.279642105102539\n",
            "[2,  1000] loss: 1.8791576623916626\n",
            "[3,  1000] loss: 1.7026714086532593\n",
            "[4,  1000] loss: 1.6104748249053955\n",
            "[5,  1000] loss: 1.257896065711975\n",
            "[6,  1000] loss: 1.4259532690048218\n",
            "[7,  1000] loss: 1.0964491367340088\n",
            "[8,  1000] loss: 1.4295923709869385\n",
            "[9,  1000] loss: 1.7202701568603516\n",
            "[10,  1000] loss: 1.560673713684082\n",
            "Hooray, Finished Training\n"
          ]
        }
      ]
    },
    {
      "cell_type": "code",
      "source": [
        "# Testing the Model\n",
        "\n",
        "correct = 0\n",
        "total = 0\n",
        "with torch.no_grad():\n",
        "  for data in testloader:\n",
        "    images, labels = data\n",
        "    # Inputs are transferred to GPU\n",
        "    images = images.to(device)\n",
        "    labels = labels.to(device)\n",
        "    output = model(images)\n",
        "    _, predicted = torch.max(output, 1)\n",
        "    total += labels.size(0)\n",
        "    correct += (predicted ==  labels).sum().item()\n",
        "\n",
        "print(f\"The accuracy of the Model is {100* correct//total}%\")\n",
        "\n",
        "\n"
      ],
      "metadata": {
        "colab": {
          "base_uri": "https://localhost:8080/"
        },
        "id": "0O3JYHBboJeM",
        "outputId": "cf2483b5-a4cb-4c3c-9d1d-2fd7feee3ce7"
      },
      "execution_count": 9,
      "outputs": [
        {
          "output_type": "stream",
          "name": "stdout",
          "text": [
            "The accuracy of the Model is 57%\n"
          ]
        }
      ]
    },
    {
      "cell_type": "code",
      "source": [
        "# Train accuracy the Model\n",
        "\n",
        "correct = 0\n",
        "total = 0\n",
        "with torch.no_grad():\n",
        "  for data in trainloader:\n",
        "    images, labels = data\n",
        "    # Inputs are transferred to GPU\n",
        "    images = images.to(device)\n",
        "    labels = labels.to(device)\n",
        "    output = model(images)\n",
        "    _, predicted = torch.max(output, 1)\n",
        "    total += labels.size(0)\n",
        "    correct += (predicted ==  labels).sum().item()\n",
        "\n",
        "print(f\"Training accuracy of the Model is {100* correct//total}%\")\n",
        "\n",
        "\n"
      ],
      "metadata": {
        "id": "mdolCzg8u67U",
        "colab": {
          "base_uri": "https://localhost:8080/"
        },
        "outputId": "ab56485c-c778-4e56-f4d7-70ccd5ebdce2"
      },
      "execution_count": 12,
      "outputs": [
        {
          "output_type": "stream",
          "name": "stdout",
          "text": [
            "Training accuracy of the Model is 59%\n"
          ]
        }
      ]
    },
    {
      "cell_type": "code",
      "source": [
        "# Viewing the image and the corresponding label for better understanding\n",
        "'''\n",
        "s = next(iter(trainloader))\n",
        "inputs, labels = s\n",
        "input_to_view = inputs[0]\n",
        "label_to_view = labels[0]\n",
        "\n",
        "image_to_view = input_to_view.numpy().transpose(1,2,0)\n",
        "plt.imshow(image_to_view)\n",
        "name = classes[label_to_view]\n",
        "plt.title(f\"Label : {name}\")\n",
        "plt.show()\n",
        "'''"
      ],
      "metadata": {
        "colab": {
          "base_uri": "https://localhost:8080/",
          "height": 87
        },
        "id": "72bQPAnXrlYE",
        "outputId": "7fe76ca2-3840-45a7-a8a3-22ae8d0f69fc"
      },
      "execution_count": 10,
      "outputs": [
        {
          "output_type": "execute_result",
          "data": {
            "text/plain": [
              "'\\ns = next(iter(trainloader))\\ninputs, labels = s\\ninput_to_view = inputs[0]\\nlabel_to_view = labels[0]\\n\\nimage_to_view = input_to_view.numpy().transpose(1,2,0)\\nplt.imshow(image_to_view)\\nname = classes[label_to_view]\\nplt.title(f\"Label : {name}\")\\nplt.show()\\n'"
            ],
            "application/vnd.google.colaboratory.intrinsic+json": {
              "type": "string"
            }
          },
          "metadata": {},
          "execution_count": 10
        }
      ]
    },
    {
      "cell_type": "code",
      "source": [
        "model_path = '/content/CNN/cnn_part1.pth'\n",
        "torch.save(model.state_dict, model_path)"
      ],
      "metadata": {
        "id": "Kwd6MwjWr16Z"
      },
      "execution_count": 11,
      "outputs": []
    },
    {
      "cell_type": "code",
      "source": [],
      "metadata": {
        "id": "_0L8U4b1gNv4"
      },
      "execution_count": 11,
      "outputs": []
    }
  ]
}