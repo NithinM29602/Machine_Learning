{
  "nbformat": 4,
  "nbformat_minor": 0,
  "metadata": {
    "colab": {
      "provenance": []
    },
    "kernelspec": {
      "name": "python3",
      "display_name": "Python 3"
    },
    "language_info": {
      "name": "python"
    }
  },
  "cells": [
    {
      "cell_type": "code",
      "execution_count": 64,
      "metadata": {
        "colab": {
          "base_uri": "https://localhost:8080/"
        },
        "id": "GFbgBzyP8TMJ",
        "outputId": "d0bd6717-8e21-4001-a983-0a1a46c265be"
      },
      "outputs": [
        {
          "output_type": "execute_result",
          "data": {
            "text/plain": [
              "True"
            ]
          },
          "metadata": {},
          "execution_count": 64
        }
      ],
      "source": [
        "# Best Method\n",
        "\n",
        "import cv2\n",
        "import numpy as np\n",
        "\n",
        "# Load the image\n",
        "image_path = '/content/sample_data/test_Watermark_1.png'\n",
        "image = cv2.imread(image_path)\n",
        "gray_image = cv2.cvtColor(image, cv2.COLOR_BGR2GRAY)\n",
        "\n",
        "# Contrast Stretching\n",
        "gray_image[gray_image <= 120] = 0\n",
        "gray_image[(gray_image >= 130) & (gray_image <= 200)] = 180\n",
        "cv2.imwrite('GrayScale_Image.jpg', gray_image)\n",
        "\n",
        "# Create masks for the text present in the image\n",
        "mask = cv2.inRange(gray_image, 0, 10)\n",
        "'''(0, 10) it doesn't matter the upper bound because\n",
        "we made all the text color to 0'''\n",
        "cv2.imwrite('Masked_Image.jpg', mask)\n",
        "\n",
        "# Dilating the masked image\n",
        "kernel = np.ones((3,3), dtype = np.uint8)\n",
        "img_dilation = cv2.dilate(mask, kernel, iterations=1)\n",
        "cv2.imwrite('img_dilation.jpg', img_dilation)\n",
        "\n",
        "# Inpainting the image\n",
        "final_image = cv2.inpaint(gray_image,img_dilation,2,cv2.INPAINT_TELEA)\n",
        "cv2.imwrite('Final_Image.jpg', final_image)\n",
        "\n",
        "# Define the colormap for colorizing (e.g., using the \"Bone\" colormap)\n",
        "colormap = cv2.applyColorMap(final_image, cv2.COLORMAP_BONE)\n",
        "\n",
        "# Convert the Grayscale image to BGR\n",
        "bgr_final_image  = cv2.cvtColor(final_image, cv2.COLOR_GRAY2BGR)\n",
        "\n",
        "# Merge the colorized watermark with the original image\n",
        "colorized_image = cv2.addWeighted(colormap, 1.0, bgr_final_image, 0, 0)\n",
        "cv2.imwrite('colorized_watermark.jpg', colorized_image)\n"
      ]
    }
  ]
}