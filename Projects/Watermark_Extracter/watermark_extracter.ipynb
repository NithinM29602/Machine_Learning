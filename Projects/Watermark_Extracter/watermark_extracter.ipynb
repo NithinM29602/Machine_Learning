{
  "nbformat": 4,
  "nbformat_minor": 0,
  "metadata": {
    "colab": {
      "provenance": [],
      "toc_visible": true
    },
    "kernelspec": {
      "name": "python3",
      "display_name": "Python 3"
    },
    "language_info": {
      "name": "python"
    }
  },
  "cells": [
    {
      "cell_type": "code",
      "execution_count": null,
      "metadata": {
        "id": "GFbgBzyP8TMJ"
      },
      "outputs": [],
      "source": [
        "# Best Method\n",
        "\n",
        "import cv2\n",
        "import numpy as np\n",
        "\n",
        "# Load the image\n",
        "image_path = '/content/sample_data/watermark_image_4.jpeg'\n",
        "image = cv2.imread(image_path)\n",
        "gray_image = cv2.cvtColor(image, cv2.COLOR_BGR2GRAY)\n",
        "\n",
        "# Contrast Stretching\n",
        "new_min = 0\n",
        "new_max = 255\n",
        "stretched_image = cv2.normalize(gray_image, None, new_min, new_max, cv2.NORM_MINMAX, dtype=cv2.CV_8U)\n",
        "cv2.imwrite('strecthed mage.jpg', stretched_image)\n",
        "\n",
        "# Create masks for the color ranges\n",
        "mask = cv2.inRange(stretched_image, 0, 180)\n",
        "\n",
        "# Dilating the masked image\n",
        "kernel = np.ones((3,3), dtype = np.uint8)\n",
        "img_dilation = cv2.dilate(mask, kernel, iterations=1)\n",
        "\n",
        "# Inpainting the image\n",
        "final_image = cv2.inpaint(gray_image,img_dilation,2,cv2.INPAINT_TELEA)\n",
        "final_img_dilation = cv2.dilate(final_image, kernel, iterations=1)\n",
        "\n",
        "\n",
        "\n",
        "\n",
        "cv2.imwrite('Masked_Image.jpg', mask)\n",
        "cv2.imwrite('img_dilation.jpg', img_dilation)\n",
        "cv2.imwrite('GrayScale_Image.jpg', gray_image)\n",
        "cv2.imwrite('Final_Image.jpg', final_image)\n",
        "cv2.imwrite('final_img_dilation.jpg', final_img_dilation)\n"
      ]
    }
  ]
}